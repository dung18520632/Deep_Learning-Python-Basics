{
  "nbformat": 4,
  "nbformat_minor": 0,
  "metadata": {
    "colab": {
      "name": "Untitled47.ipynb",
      "provenance": [],
      "authorship_tag": "ABX9TyMqdUpZvsA0b6VkZoJf1oIy",
      "include_colab_link": true
    },
    "kernelspec": {
      "name": "python3",
      "display_name": "Python 3"
    },
    "language_info": {
      "name": "python"
    }
  },
  "cells": [
    {
      "cell_type": "markdown",
      "metadata": {
        "id": "view-in-github",
        "colab_type": "text"
      },
      "source": [
        "<a href=\"https://colab.research.google.com/github/dung18520632/Deep_Learning-Python-Basics/blob/main/Building%20your%20Deep%20Neural%20Network%3A%20Step%20by%20Step.ipynb\" target=\"_parent\"><img src=\"https://colab.research.google.com/assets/colab-badge.svg\" alt=\"Open In Colab\"/></a>"
      ]
    },
    {
      "cell_type": "code",
      "metadata": {
        "id": "RvlBVDmKW463"
      },
      "source": [
        "import numpy as np\n",
        "import h5py\n",
        "import matplotlib.pyplot as plt\n",
        "from testCases_v2 import *\n",
        "from dnn_utils_v2 import sigmoid, sigmoid_backward, relu, relu_backward\n",
        "\n",
        "%matplotlib inline\n",
        "plt.rcParams['figure.figsize'] = (5.0, 4.0) # set default size of plots\n",
        "plt.rcParams['image.interpolation'] = 'nearest'\n",
        "plt.rcParams['image.cmap'] = 'gray'\n",
        "\n",
        "%load_ext autoreload\n",
        "%autoreload 2\n",
        "\n",
        "np.random.seed(1)"
      ],
      "execution_count": 1,
      "outputs": []
    },
    {
      "cell_type": "code",
      "metadata": {
        "id": "B9zdQE-99e6d"
      },
      "source": [
        "def initialize_parameters(n_x, n_h, n_y):\n",
        "  np.random.seed(1)\n",
        "  w1=np.random.randn(n_h,n_x)*0.01\n",
        "  b1=np.zeros((n_h,1))\n",
        "  w2=np.random.randn(n_y,n_h)*0.01\n",
        "  b2=np.zeros((n_y,1))\n",
        "  parameters={\"W1\":w1,\n",
        "              \"b1\":b1,\n",
        "              \"W2\":w2,\n",
        "              \"b2\":b2\n",
        "              }\n",
        "  return parameters\n",
        "  "
      ],
      "execution_count": 3,
      "outputs": []
    },
    {
      "cell_type": "code",
      "metadata": {
        "colab": {
          "base_uri": "https://localhost:8080/"
        },
        "id": "aba_gDBnAPqb",
        "outputId": "0b5ed65f-883e-46fb-fe37-dd5465c7b1e4"
      },
      "source": [
        "parameters = initialize_parameters(2,2,1)\n",
        "print(\"W1 = \" + str(parameters[\"W1\"]))\n",
        "print(\"b1 = \" + str(parameters[\"b1\"]))\n",
        "print(\"W2 = \" + str(parameters[\"W2\"]))\n",
        "print(\"b2 = \" + str(parameters[\"b2\"]))"
      ],
      "execution_count": 4,
      "outputs": [
        {
          "output_type": "stream",
          "text": [
            "W1 = [[ 0.01624345 -0.00611756]\n",
            " [-0.00528172 -0.01072969]]\n",
            "b1 = [[0.]\n",
            " [0.]]\n",
            "W2 = [[ 0.00865408 -0.02301539]]\n",
            "b2 = [[0.]]\n"
          ],
          "name": "stdout"
        }
      ]
    },
    {
      "cell_type": "code",
      "metadata": {
        "id": "tNwvpVchAiUH"
      },
      "source": [
        "def initialize_parameters_deep(layer_dims):\n",
        "  np.random.seed(3)\n",
        "  parameters = {}\n",
        "  L = len(layer_dims) \n",
        "  for i in range(1,L):\n",
        "    parameters[\"W\"+str(i)]=np.random.randn(layer_dims[i],layer_dims[i-1])*0.01\n",
        "    parameters[\"b\"+str(i)]=np.zeros((layer_dims[i],1))\n",
        "  return parameters"
      ],
      "execution_count": 9,
      "outputs": []
    },
    {
      "cell_type": "code",
      "metadata": {
        "colab": {
          "base_uri": "https://localhost:8080/"
        },
        "id": "V2pxIcYoEq4d",
        "outputId": "4a4b459d-06fe-4ef7-bff1-4365601f6a1f"
      },
      "source": [
        "parameters = initialize_parameters_deep([5,4,3])\n",
        "print(\"W1 = \" + str(parameters[\"W1\"]))\n",
        "print(\"b1 = \" + str(parameters[\"b1\"]))\n",
        "print(\"W2 = \" + str(parameters[\"W2\"]))\n",
        "print(\"b2 = \" + str(parameters[\"b2\"]))"
      ],
      "execution_count": 10,
      "outputs": [
        {
          "output_type": "stream",
          "text": [
            "W1 = [[ 0.01788628  0.0043651   0.00096497 -0.01863493 -0.00277388]\n",
            " [-0.00354759 -0.00082741 -0.00627001 -0.00043818 -0.00477218]\n",
            " [-0.01313865  0.00884622  0.00881318  0.01709573  0.00050034]\n",
            " [-0.00404677 -0.0054536  -0.01546477  0.00982367 -0.01101068]]\n",
            "b1 = [[0.]\n",
            " [0.]\n",
            " [0.]\n",
            " [0.]]\n",
            "W2 = [[-0.01185047 -0.0020565   0.01486148  0.00236716]\n",
            " [-0.01023785 -0.00712993  0.00625245 -0.00160513]\n",
            " [-0.00768836 -0.00230031  0.00745056  0.01976111]]\n",
            "b2 = [[0.]\n",
            " [0.]\n",
            " [0.]]\n"
          ],
          "name": "stdout"
        }
      ]
    },
    {
      "cell_type": "code",
      "metadata": {
        "id": "4mviV9CmEs47"
      },
      "source": [
        "def linear_forward(A, W, b):\n",
        "  Z=np.dot(W,A)+b\n",
        "  cache=(A,W,b)\n",
        "  return Z,cache"
      ],
      "execution_count": 11,
      "outputs": []
    },
    {
      "cell_type": "code",
      "metadata": {
        "colab": {
          "base_uri": "https://localhost:8080/"
        },
        "id": "1XqGJ5lGF4WH",
        "outputId": "5ad52734-3354-4f92-9294-92cf5b5e37f8"
      },
      "source": [
        "A, W, b = linear_forward_test_case()\n",
        "\n",
        "Z, linear_cache = linear_forward(A, W, b)\n",
        "print(\"Z = \" + str(Z))"
      ],
      "execution_count": 12,
      "outputs": [
        {
          "output_type": "stream",
          "text": [
            "Z = [[ 3.26295337 -1.23429987]]\n"
          ],
          "name": "stdout"
        }
      ]
    },
    {
      "cell_type": "code",
      "metadata": {
        "id": "EIgO7YSAF5hX"
      },
      "source": [
        "def linear_activation_forward(A_prev, W, b, activation):\n",
        "  if activation==\"sigmoid\":\n",
        "    Z,linear_cache=linear_forward(A_prev,W,b)\n",
        "    A,activation_cache=sigmoid(Z)\n",
        "  elif activation==\"relu\":\n",
        "    Z,linear_cache=linear_forward(A_prev,W,b)\n",
        "    A,activation_cache=relu(Z)\n",
        "  else:\n",
        "    pass\n",
        "  cache=(linear_cache,activation_cache)\n",
        "  return A,cache"
      ],
      "execution_count": 21,
      "outputs": []
    },
    {
      "cell_type": "code",
      "metadata": {
        "colab": {
          "base_uri": "https://localhost:8080/"
        },
        "id": "JefhlYJmIOin",
        "outputId": "9f61bd12-ecf9-410c-8742-115726857197"
      },
      "source": [
        "A_prev, W, b = linear_activation_forward_test_case()\n",
        "\n",
        "A, linear_activation_cache = linear_activation_forward(A_prev, W, b, activation = \"sigmoid\")\n",
        "print(\"With sigmoid: A = \" + str(A))\n",
        "\n",
        "A, linear_activation_cache = linear_activation_forward(A_prev, W, b, activation = \"relu\")\n",
        "print(\"With ReLU: A = \" + str(A))"
      ],
      "execution_count": 22,
      "outputs": [
        {
          "output_type": "stream",
          "text": [
            "With sigmoid: A = [[0.96890023 0.11013289]]\n",
            "With ReLU: A = [[3.43896131 0.        ]]\n"
          ],
          "name": "stdout"
        }
      ]
    },
    {
      "cell_type": "code",
      "metadata": {
        "id": "C9q12BKeIO1V"
      },
      "source": [
        "def L_model_forward(X, parameters):\n",
        "  caches = []\n",
        "  A = X\n",
        "  L = len(parameters) // 2\n",
        "  for l in range(1, L):\n",
        "    A_prev=A\n",
        "    A,cache=linear_activation_forward(A_prev,parameters[\"W\"+str(l)],parameters[\"b\"+str(l)],activation=\"relu\")\n",
        "    caches.append(cache)\n",
        "  AL, cache = linear_activation_forward(A, parameters[\"W2\"], parameters[\"b2\"], activation = \"sigmoid\")\n",
        "  caches.append(cache)\n",
        "  return AL, caches\n",
        "            \n",
        "    "
      ],
      "execution_count": 23,
      "outputs": []
    },
    {
      "cell_type": "code",
      "metadata": {
        "id": "GwFuRfgsOOTg"
      },
      "source": [
        "def compute_cost(AL, Y):\n",
        "  m=Y.shape[1]\n",
        "  cost=(-1/m)*np.sum(np.dot(Y,np.log(AL).T)+np.dot(1-Y,np.log(1-AL).T))\n",
        "  cost=np.squeeze(cost)\n",
        "  return cost"
      ],
      "execution_count": 38,
      "outputs": []
    },
    {
      "cell_type": "code",
      "metadata": {
        "colab": {
          "base_uri": "https://localhost:8080/"
        },
        "id": "k06cfnsgOO8D",
        "outputId": "2909e5e7-4bac-4aa9-e656-0bd6c73086bd"
      },
      "source": [
        "Y, AL = compute_cost_test_case()\n",
        "print(\"cost = \" + str(compute_cost(AL, Y)))\n"
      ],
      "execution_count": 39,
      "outputs": [
        {
          "output_type": "stream",
          "text": [
            "cost = 0.41493159961539694\n"
          ],
          "name": "stdout"
        }
      ]
    },
    {
      "cell_type": "code",
      "metadata": {
        "id": "Z5rAF8nwP6e9"
      },
      "source": [
        "def linear_backward(dZ, cache):\n",
        "  A_prev,W,b=cache\n",
        "  m=A_prev.shape[1]\n",
        "  dW=(1/m)*np.dot(dZ,A_prev.T)\n",
        "  db=(1/m)*np.sum(dZ)\n",
        "  dA_prev=np.dot(W.T,dZ)\n",
        "  return dA_prev,dW,db"
      ],
      "execution_count": 42,
      "outputs": []
    },
    {
      "cell_type": "code",
      "metadata": {
        "id": "m0xPzqHIWUGd"
      },
      "source": [
        "def linear_activation_backward(dA, cache, activation):\n",
        "  linear_cache,activation_cache=cache\n",
        "  if activation==\"sigmoid\":\n",
        "    dZ=sigmoid_backward(dA,activation_cache)\n",
        "    dA_prev,dW,db=linear_backward(dZ,linear_cache)\n",
        "  elif activation==\"relu\":\n",
        "    dZ=relu_backward(dA,activation_cache)\n",
        "    dA_prev,dW,db=linear_backward(dZ,linear_cache)\n",
        "  return dA_prev,dW,db\n",
        "    \n",
        "\n",
        "\n"
      ],
      "execution_count": 49,
      "outputs": []
    },
    {
      "cell_type": "code",
      "metadata": {
        "colab": {
          "base_uri": "https://localhost:8080/"
        },
        "id": "3UPmS8o4Wrbk",
        "outputId": "d79f7018-b789-4c45-8045-feaa9ac7d2e6"
      },
      "source": [
        "# Set up some test inputs\n",
        "dZ, linear_cache = linear_backward_test_case()\n",
        "\n",
        "dA_prev, dW, db = linear_backward(dZ, linear_cache)\n",
        "print (\"dA_prev = \"+ str(dA_prev))\n",
        "print (\"dW = \" + str(dW))\n",
        "print (\"db = \" + str(db))"
      ],
      "execution_count": 52,
      "outputs": [
        {
          "output_type": "stream",
          "text": [
            "dA_prev = [[ 0.51822968 -0.19517421]\n",
            " [-0.40506361  0.15255393]\n",
            " [ 2.37496825 -0.89445391]]\n",
            "dW = [[-0.10076895  1.40685096  1.64992505]]\n",
            "db = 0.5062944750065832\n"
          ],
          "name": "stdout"
        }
      ]
    },
    {
      "cell_type": "code",
      "metadata": {
        "id": "oXaRlvYDY53l"
      },
      "source": [
        "def L_model_backward(AL, Y, caches):\n",
        "  grads={}\n",
        "  m = AL.shape[1]\n",
        "  L = len(caches) # the number of layers\n",
        "  Y = Y.reshape(AL.shape) # after this line, Y is the same shape as AL\n",
        "  dAL = - (np.divide(Y, AL) - np.divide(1 - Y, 1 - AL))\n",
        "  current_cache = caches[L-1]\n",
        "  grads[\"dA\" + str(L)], grads[\"dW\" + str(L)], grads[\"db\" + str(L)] = linear_activation_backward(dAL, current_cache, \"sigmoid\")\n",
        "  for l in reversed(range(L-1)):\n",
        "    current_cache = caches[l]\n",
        "    dA_prev_temp, dW_temp, db_temp = linear_activation_backward(grads[\"dA\" + str(l + 2)], current_cache, \"relu\")\n",
        "    grads[\"dA\" + str(l + 1)] = dA_prev_temp\n",
        "    grads[\"dW\" + str(l + 1)] = dW_temp\n",
        "    grads[\"db\" + str(l + 1)] = db_temp\n",
        "        ### END CODE HERE ###\n",
        "\n",
        "  return grads\n",
        "\n",
        "\n",
        "    \n",
        "\n",
        "\n"
      ],
      "execution_count": 53,
      "outputs": []
    },
    {
      "cell_type": "code",
      "metadata": {
        "colab": {
          "base_uri": "https://localhost:8080/"
        },
        "id": "pkH0QR8RiFFQ",
        "outputId": "7b114ef8-fbdb-4d01-b57a-2db30e8c87b5"
      },
      "source": [
        "AL, Y_assess, caches = L_model_backward_test_case()\n",
        "grads = L_model_backward(AL, Y_assess, caches)\n",
        "print (\"dW1 = \"+ str(grads[\"dW1\"]))\n",
        "print (\"db1 = \"+ str(grads[\"db1\"]))\n",
        "print (\"dA1 = \"+ str(grads[\"dA1\"]))"
      ],
      "execution_count": 54,
      "outputs": [
        {
          "output_type": "stream",
          "text": [
            "dW1 = [[0.41010002 0.07807203 0.13798444 0.10502167]\n",
            " [0.         0.         0.         0.        ]\n",
            " [0.05283652 0.01005865 0.01777766 0.0135308 ]]\n",
            "db1 = -0.24842412164385988\n",
            "dA1 = [[ 0.          0.52257901]\n",
            " [ 0.         -0.3269206 ]\n",
            " [ 0.         -0.32070404]\n",
            " [ 0.         -0.74079187]]\n"
          ],
          "name": "stdout"
        }
      ]
    },
    {
      "cell_type": "code",
      "metadata": {
        "id": "eqmS0gO-iGH0"
      },
      "source": [
        "def update_parameters(parameters, grads, learning_rate):\n",
        "    \"\"\"\n",
        "    Update parameters using gradient descent\n",
        "    \n",
        "    Arguments:\n",
        "    parameters -- python dictionary containing your parameters \n",
        "    grads -- python dictionary containing your gradients, output of L_model_backward\n",
        "    \n",
        "    Returns:\n",
        "    parameters -- python dictionary containing your updated parameters \n",
        "                  parameters[\"W\" + str(l)] = ... \n",
        "                  parameters[\"b\" + str(l)] = ...\n",
        "    \"\"\"\n",
        "    \n",
        "    L = len(parameters) // 2 # number of layers in the neural network\n",
        "\n",
        "    # Update rule for each parameter. Use a for loop.\n",
        "    ### START CODE HERE ### (≈ 3 lines of code)\n",
        "    for l in range(1,L+1):\n",
        "        parameters[\"W\" + str(l)] = parameters[\"W\" + str(l)] - learning_rate * grads[\"dW\" + str(l)]\n",
        "        parameters[\"b\" + str(l)] = parameters[\"b\" + str(l)] - learning_rate * grads[\"db\" + str(l)]\n",
        "    ### END CODE HERE ###\n",
        "        \n",
        "    return parameters"
      ],
      "execution_count": 55,
      "outputs": []
    },
    {
      "cell_type": "code",
      "metadata": {
        "colab": {
          "base_uri": "https://localhost:8080/"
        },
        "id": "v7gv-XsrlRWU",
        "outputId": "2d286ab9-6957-49ce-c841-f438e7b74f86"
      },
      "source": [
        "parameters, grads = update_parameters_test_case()\n",
        "parameters = update_parameters(parameters, grads, 0.1)\n",
        "\n",
        "print (\"W1 = \"+ str(parameters[\"W1\"]))\n",
        "print (\"b1 = \"+ str(parameters[\"b1\"]))\n",
        "print (\"W2 = \"+ str(parameters[\"W2\"]))\n",
        "print (\"b2 = \"+ str(parameters[\"b2\"]))"
      ],
      "execution_count": 56,
      "outputs": [
        {
          "output_type": "stream",
          "text": [
            "W1 = [[-0.59562069 -0.09991781 -2.14584584  1.82662008]\n",
            " [-1.76569676 -0.80627147  0.51115557 -1.18258802]\n",
            " [-1.0535704  -0.86128581  0.68284052  2.20374577]]\n",
            "b1 = [[-0.04659241]\n",
            " [-1.28888275]\n",
            " [ 0.53405496]]\n",
            "W2 = [[-0.55569196  0.0354055   1.32964895]]\n",
            "b2 = [[-0.84610769]]\n"
          ],
          "name": "stdout"
        }
      ]
    },
    {
      "cell_type": "code",
      "metadata": {
        "id": "exNNLZBPlSqG"
      },
      "source": [
        ""
      ],
      "execution_count": null,
      "outputs": []
    }
  ]
}