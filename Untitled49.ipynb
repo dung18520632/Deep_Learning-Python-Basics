{
  "nbformat": 4,
  "nbformat_minor": 0,
  "metadata": {
    "colab": {
      "name": "Untitled49.ipynb",
      "provenance": [],
      "authorship_tag": "ABX9TyPx6CDNL1N+h6ZVg0rrFGDz",
      "include_colab_link": true
    },
    "kernelspec": {
      "name": "python3",
      "display_name": "Python 3"
    },
    "language_info": {
      "name": "python"
    }
  },
  "cells": [
    {
      "cell_type": "markdown",
      "metadata": {
        "id": "view-in-github",
        "colab_type": "text"
      },
      "source": [
        "<a href=\"https://colab.research.google.com/github/dung18520632/Deep_Learning-Python-Basics/blob/main/Untitled49.ipynb\" target=\"_parent\"><img src=\"https://colab.research.google.com/assets/colab-badge.svg\" alt=\"Open In Colab\"/></a>"
      ]
    },
    {
      "cell_type": "code",
      "metadata": {
        "id": "Hh3YEm-nWRAA"
      },
      "source": [
        "import math\n",
        "import numpy as np\n",
        "import h5py\n",
        "import matplotlib.pyplot as plt\n",
        "import tensorflow as tf\n",
        "from tensorflow.python.framework import ops\n",
        "from tf_utils import load_dataset, random_mini_batches, convert_to_one_hot, predict\n",
        "\n",
        "%matplotlib inline\n",
        "np.random.seed(1)"
      ],
      "execution_count": 2,
      "outputs": []
    },
    {
      "cell_type": "code",
      "metadata": {
        "id": "eZj5RnqnsHAc",
        "outputId": "8522e336-bef2-4612-8964-095288d88231",
        "colab": {
          "base_uri": "https://localhost:8080/"
        }
      },
      "source": [
        "import tensorflow.compat.v1 as tf\n",
        "tf.disable_v2_behavior()"
      ],
      "execution_count": 4,
      "outputs": [
        {
          "output_type": "stream",
          "text": [
            "WARNING:tensorflow:From /usr/local/lib/python3.7/dist-packages/tensorflow/python/compat/v2_compat.py:96: disable_resource_variables (from tensorflow.python.ops.variable_scope) is deprecated and will be removed in a future version.\n",
            "Instructions for updating:\n",
            "non-resource variables are not supported in the long term\n"
          ],
          "name": "stdout"
        }
      ]
    },
    {
      "cell_type": "code",
      "metadata": {
        "colab": {
          "base_uri": "https://localhost:8080/"
        },
        "id": "ujWQLkiKm4wx",
        "outputId": "cfa0ad6b-3867-45a4-a728-f87d8244732e"
      },
      "source": [
        "y_hat = tf.constant(36, name='y_hat')            # Define y_hat constant. Set to 36.\n",
        "y = tf.constant(39, name='y')                    # Define y. Set to 39\n",
        "\n",
        "loss = tf.Variable((y - y_hat)**2, name='loss')  # Create a variable for the loss\n",
        "\n",
        "init = tf.global_variables_initializer()         # When init is run later (session.run(init)),\n",
        "                                                 # the loss variable will be initialized and ready to be computed\n",
        "with tf.Session() as session:                    # Create a session and print the output\n",
        "    session.run(init)                            # Initializes the variables\n",
        "    print(session.run(loss))  "
      ],
      "execution_count": 5,
      "outputs": [
        {
          "output_type": "stream",
          "text": [
            "9\n"
          ],
          "name": "stdout"
        }
      ]
    },
    {
      "cell_type": "code",
      "metadata": {
        "colab": {
          "base_uri": "https://localhost:8080/"
        },
        "id": "fYIpoKWgodvN",
        "outputId": "e4374e5a-768f-458d-fa21-1ecfd4d664c4"
      },
      "source": [
        "a = tf.constant(2)\n",
        "b = tf.constant(10)\n",
        "c = tf.multiply(a,b)\n",
        "print(c)"
      ],
      "execution_count": 11,
      "outputs": [
        {
          "output_type": "stream",
          "text": [
            "Tensor(\"Mul_1:0\", shape=(), dtype=int32)\n"
          ],
          "name": "stdout"
        }
      ]
    },
    {
      "cell_type": "code",
      "metadata": {
        "colab": {
          "base_uri": "https://localhost:8080/"
        },
        "id": "9dpqNk9vrJvf",
        "outputId": "5a2c91b8-f152-481b-e5c6-3885bd4acdab"
      },
      "source": [
        "sess = tf.Session()\n",
        "print(sess.run(c))"
      ],
      "execution_count": 12,
      "outputs": [
        {
          "output_type": "stream",
          "text": [
            "20\n"
          ],
          "name": "stdout"
        }
      ]
    },
    {
      "cell_type": "code",
      "metadata": {
        "colab": {
          "base_uri": "https://localhost:8080/"
        },
        "id": "pJ3p1PXDrclV",
        "outputId": "9cd7fd14-7883-410f-b20c-4b537abdeaeb"
      },
      "source": [
        "x = tf.placeholder(tf.int64, name = 'x')\n",
        "sess = tf.Session()\n",
        "print(sess.run(2 * x, feed_dict = {x: 6}))\n",
        "sess.close()"
      ],
      "execution_count": 13,
      "outputs": [
        {
          "output_type": "stream",
          "text": [
            "12\n"
          ],
          "name": "stdout"
        }
      ]
    },
    {
      "cell_type": "code",
      "metadata": {
        "id": "-ml00txzs5_d"
      },
      "source": [
        "def linear_function():\n",
        "  np.random.seed(1)\n",
        "  X=tf.constant(np.random.randn(3,1),name=\"X\")\n",
        "  W=tf.constant(np.random.randn(4,3),name=\"W\")\n",
        "  b=tf.constant(np.random.randn(4,1),name=\"b\")\n",
        "  Y=tf.add(tf.matmul(W,X),b)\n",
        "  sess=tf.Session()\n",
        "  result=sess.run(Y)\n",
        "  sess.close()\n",
        "  return result\n",
        "  \n"
      ],
      "execution_count": 14,
      "outputs": []
    },
    {
      "cell_type": "code",
      "metadata": {
        "colab": {
          "base_uri": "https://localhost:8080/"
        },
        "id": "RVRljMXqwebv",
        "outputId": "d2315be5-a74e-4bb8-cad6-a50919c95aaf"
      },
      "source": [
        "print( \"result = \" + str(linear_function()))"
      ],
      "execution_count": 15,
      "outputs": [
        {
          "output_type": "stream",
          "text": [
            "result = [[-2.15657382]\n",
            " [ 2.95891446]\n",
            " [-1.08926781]\n",
            " [-0.84538042]]\n"
          ],
          "name": "stdout"
        }
      ]
    },
    {
      "cell_type": "code",
      "metadata": {
        "id": "avQA4uqCwoUz"
      },
      "source": [
        "def sigmoid(z):\n",
        "  x=tf.placeholder(tf.float32,name=\"x\")\n",
        "  sigmoid=tf.sigmoid(x)\n",
        "  sess=tf.Session()\n",
        "  result=sess.run(sigmoid,feed_dict={x:z})\n",
        "  sess.close()\n",
        "  return result"
      ],
      "execution_count": 16,
      "outputs": []
    },
    {
      "cell_type": "code",
      "metadata": {
        "colab": {
          "base_uri": "https://localhost:8080/"
        },
        "id": "iuZs4x_uyQI8",
        "outputId": "d68085c0-3609-49a5-a2ba-44413535a005"
      },
      "source": [
        "print (\"sigmoid(0) = \" + str(sigmoid(0)))\n",
        "print (\"sigmoid(12) = \" + str(sigmoid(12)))"
      ],
      "execution_count": 17,
      "outputs": [
        {
          "output_type": "stream",
          "text": [
            "sigmoid(0) = 0.5\n",
            "sigmoid(12) = 0.9999939\n"
          ],
          "name": "stdout"
        }
      ]
    },
    {
      "cell_type": "code",
      "metadata": {
        "id": "bmEXlMP8yQaG"
      },
      "source": [
        "def cost(logits, labels):\n",
        "  z=tf.placeholder(tf.float32,name=\"z\")\n",
        "  y=tf.placeholder(tf.float32,name=\"y\")\n",
        "  cost=tf.nn.sigmoid_cross_entropy_with_logits(logits=z,labels=y)\n",
        "  sess=tf.Session()\n",
        "  cost=sess.run(cost,feed_dict={z:logits,y:labels})\n",
        "  sess.close()\n",
        "  return cost"
      ],
      "execution_count": 18,
      "outputs": []
    },
    {
      "cell_type": "code",
      "metadata": {
        "colab": {
          "base_uri": "https://localhost:8080/"
        },
        "id": "HdTkdfcKzer8",
        "outputId": "55762751-0fde-433d-ff81-d2a24e5670a6"
      },
      "source": [
        "logits = sigmoid(np.array([0.2,0.4,0.7,0.9]))\n",
        "cost = cost(logits, np.array([0,0,1,1]))\n",
        "print (\"cost = \" + str(cost))"
      ],
      "execution_count": 19,
      "outputs": [
        {
          "output_type": "stream",
          "text": [
            "cost = [1.0053872  1.0366409  0.41385433 0.39956614]\n"
          ],
          "name": "stdout"
        }
      ]
    },
    {
      "cell_type": "code",
      "metadata": {
        "id": "PDBeZ7-izgnJ"
      },
      "source": [
        "def one_hot_matrix(labels, C):\n",
        "  C=tf.constant(C,name=\"C\")\n",
        "  one_hot=tf.one_hot(labels,C,axis=0)\n",
        "  sess=tf.Session()\n",
        "  one_hot=sess.run(one_hot)\n",
        "  sess.close()\n",
        "  return one_hot"
      ],
      "execution_count": 20,
      "outputs": []
    },
    {
      "cell_type": "code",
      "metadata": {
        "colab": {
          "base_uri": "https://localhost:8080/"
        },
        "id": "lkdxRZWQ0LYy",
        "outputId": "885f46a6-63e6-4075-cda9-55f9c932540e"
      },
      "source": [
        "labels = np.array([1,2,3,0,2,1])\n",
        "one_hot = one_hot_matrix(labels, C = 4)\n",
        "print (\"one_hot = \" + str(one_hot))"
      ],
      "execution_count": 21,
      "outputs": [
        {
          "output_type": "stream",
          "text": [
            "one_hot = [[0. 0. 0. 1. 0. 0.]\n",
            " [1. 0. 0. 0. 0. 1.]\n",
            " [0. 1. 0. 0. 1. 0.]\n",
            " [0. 0. 1. 0. 0. 0.]]\n"
          ],
          "name": "stdout"
        }
      ]
    },
    {
      "cell_type": "code",
      "metadata": {
        "id": "y5aZgD6m1Aje"
      },
      "source": [
        "def ones(shape):\n",
        "  ones=tf.ones(shape)\n",
        "  sess=tf.Session()\n",
        "  ones=sess.run(ones)\n",
        "  sess.close()\n",
        "  return ones"
      ],
      "execution_count": 22,
      "outputs": []
    },
    {
      "cell_type": "code",
      "metadata": {
        "colab": {
          "base_uri": "https://localhost:8080/"
        },
        "id": "c5KTKbbJ16vs",
        "outputId": "e6e19b0a-c39b-42e4-9742-a30ecfa46d87"
      },
      "source": [
        "print (\"ones = \" + str(ones([3])))"
      ],
      "execution_count": 23,
      "outputs": [
        {
          "output_type": "stream",
          "text": [
            "ones = [1. 1. 1.]\n"
          ],
          "name": "stdout"
        }
      ]
    },
    {
      "cell_type": "code",
      "metadata": {
        "id": "rIHYYf5K2V_G"
      },
      "source": [
        "def load_dataset():\n",
        "    train_dataset = h5py.File('/content/train_signs.h5', \"r\")\n",
        "    train_set_x_orig = np.array(train_dataset[\"train_set_x\"][:]) # your train set features\n",
        "    train_set_y_orig = np.array(train_dataset[\"train_set_y\"][:]) # your train set labels\n",
        "\n",
        "    test_dataset = h5py.File('/content/test_signs.h5', \"r\")\n",
        "    test_set_x_orig = np.array(test_dataset[\"test_set_x\"][:]) # your test set features\n",
        "    test_set_y_orig = np.array(test_dataset[\"test_set_y\"][:]) # your test set labels\n",
        "\n",
        "    classes = np.array(test_dataset[\"list_classes\"][:]) # the list of classes\n",
        "    \n",
        "    train_set_y_orig = train_set_y_orig.reshape((1, train_set_y_orig.shape[0]))\n",
        "    test_set_y_orig = test_set_y_orig.reshape((1, test_set_y_orig.shape[0]))\n",
        "    \n",
        "    return train_set_x_orig, train_set_y_orig, test_set_x_orig, test_set_y_orig, classes"
      ],
      "execution_count": 24,
      "outputs": []
    },
    {
      "cell_type": "code",
      "metadata": {
        "id": "B7ifBNb7175F"
      },
      "source": [
        "X_train_orig, Y_train_orig, X_test_orig, Y_test_orig, classes = load_dataset()"
      ],
      "execution_count": 25,
      "outputs": []
    },
    {
      "cell_type": "code",
      "metadata": {
        "colab": {
          "base_uri": "https://localhost:8080/",
          "height": 285
        },
        "id": "ch9nTrEN2FNW",
        "outputId": "732fde0c-f2f1-47cc-ed31-7161a86735e2"
      },
      "source": [
        "index=2\n",
        "plt.imshow(X_train_orig[index])"
      ],
      "execution_count": 26,
      "outputs": [
        {
          "output_type": "execute_result",
          "data": {
            "text/plain": [
              "<matplotlib.image.AxesImage at 0x7f4171daff10>"
            ]
          },
          "metadata": {
            "tags": []
          },
          "execution_count": 26
        },
        {
          "output_type": "display_data",
          "data": {
            "image/png": "[encoded data removed]",
            "text/plain": [
              "<Figure size 432x288 with 1 Axes>"
            ]
          },
          "metadata": {
            "tags": [],
            "needs_background": "light"
          }
        }
      ]
    },
    {
      "cell_type": "code",
      "metadata": {
        "id": "NI-z2x_a3CAd"
      },
      "source": [
        "x_train_flatten=X_train_orig.reshape(X_train_orig.shape[0],-1).T\n",
        "x_test_flatten=X_test_orig.reshape(X_test_orig.shape[0],-1).T\n",
        "x_train=x_train_flatten/255\n",
        "x_test=x_test_flatten/255\n"
      ],
      "execution_count": 27,
      "outputs": []
    },
    {
      "cell_type": "code",
      "metadata": {
        "colab": {
          "base_uri": "https://localhost:8080/"
        },
        "id": "0xPY80cr6Fv1",
        "outputId": "c04569e8-3dcf-436e-f745-09ee03adefbf"
      },
      "source": [
        "y_train=convert_to_one_hot(Y_train_orig,6)\n",
        "y_test=convert_to_one_hot(Y_test_orig,6)\n",
        "print (\"number of training examples = \" + str(x_train.shape[1]))\n",
        "print (\"number of test examples = \" + str(x_test.shape[1]))\n",
        "print (\"X_train shape: \" + str(x_train.shape))\n",
        "print (\"Y_train shape: \" + str(y_train.shape))\n",
        "print (\"X_test shape: \" + str(x_test.shape))\n",
        "print (\"Y_test shape: \" + str(y_test.shape))"
      ],
      "execution_count": 28,
      "outputs": [
        {
          "output_type": "stream",
          "text": [
            "number of training examples = 1080\n",
            "number of test examples = 120\n",
            "X_train shape: (12288, 1080)\n",
            "Y_train shape: (6, 1080)\n",
            "X_test shape: (12288, 120)\n",
            "Y_test shape: (6, 120)\n"
          ],
          "name": "stdout"
        }
      ]
    },
    {
      "cell_type": "code",
      "metadata": {
        "id": "s_0Cm5OJ6cgT"
      },
      "source": [
        "def create_placeholders(n_x, n_y):\n",
        "  X=tf.placeholder(tf.float32,shape=[n_x,None],name=\"X\")\n",
        "  Y=tf.placeholder(tf.float32,shape=[n_y,None],name=\"Y\")\n",
        "  return X,Y"
      ],
      "execution_count": 29,
      "outputs": []
    },
    {
      "cell_type": "code",
      "metadata": {
        "colab": {
          "base_uri": "https://localhost:8080/"
        },
        "id": "3tTO-vu97eLB",
        "outputId": "3914410e-7cf8-4a4b-f522-347f90b69d99"
      },
      "source": [
        "X, Y = create_placeholders(12288, 6)\n",
        "print (\"X = \" + str(X))\n",
        "print (\"Y = \" + str(Y))"
      ],
      "execution_count": 30,
      "outputs": [
        {
          "output_type": "stream",
          "text": [
            "X = Tensor(\"X_5:0\", shape=(12288, ?), dtype=float32)\n",
            "Y = Tensor(\"Y_2:0\", shape=(6, ?), dtype=float32)\n"
          ],
          "name": "stdout"
        }
      ]
    },
    {
      "cell_type": "code",
      "metadata": {
        "colab": {
          "base_uri": "https://localhost:8080/"
        },
        "id": "UGOy1oFn_ndA",
        "outputId": "f362254f-817e-408d-f8c9-00f7c36b058f"
      },
      "source": [
        "print(tf.__version__)"
      ],
      "execution_count": 32,
      "outputs": [
        {
          "output_type": "stream",
          "text": [
            "2.4.1\n"
          ],
          "name": "stdout"
        }
      ]
    },
    {
      "cell_type": "code",
      "metadata": {
        "colab": {
          "base_uri": "https://localhost:8080/"
        },
        "id": "qhO13f5J_AgW",
        "outputId": "90fde034-e42e-4a3c-9666-5ddf41922ff6"
      },
      "source": [
        "import tensorflow.compat.v1 as tf\n",
        "tf.ConfigProto"
      ],
      "execution_count": 33,
      "outputs": [
        {
          "output_type": "execute_result",
          "data": {
            "text/plain": [
              "tensorflow.core.protobuf.config_pb2.ConfigProto"
            ]
          },
          "metadata": {
            "tags": []
          },
          "execution_count": 33
        }
      ]
    },
    {
      "cell_type": "code",
      "metadata": {
        "colab": {
          "base_uri": "https://localhost:8080/"
        },
        "id": "sgyJHdXhAbvE",
        "outputId": "5f7165d0-ea26-4fd3-a8f9-6e3959203844"
      },
      "source": [
        "print(tf.__version__)"
      ],
      "execution_count": 34,
      "outputs": [
        {
          "output_type": "stream",
          "text": [
            "2.4.1\n"
          ],
          "name": "stdout"
        }
      ]
    },
    {
      "cell_type": "code",
      "metadata": {
        "id": "7oSh1BmT8K7f"
      },
      "source": [
        "def initialize_parameters():\n",
        "  initializer=tf.compat.v1.keras.initializers.glorot_normal(seed=1)\n",
        "  W1=tf.get_variable(\"W1\",[25,12288],initializer=tf.compat.v1.keras.initializers.glorot_normal(seed=1))\n",
        "  b1=tf.get_variable(\"b1\", [25,1], initializer = tf.zeros_initializer())\n",
        "  W2=tf.get_variable(\"W2\",[12,25],initializer=tf.compat.v1.keras.initializers.glorot_normal(seed = 1))\n",
        "  b2=tf.get_variable(\"b2\", [12,1], initializer = tf.zeros_initializer())\n",
        "  W3=tf.get_variable(\"W3\",[6,12],initializer=tf.keras.initializers.glorot_normal(seed = 1))\n",
        "  b3=tf.get_variable(\"b3\", [6,1], initializer = tf.zeros_initializer())\n",
        "  parameters={\"W1\":W1,\n",
        "              \"b1\":b1,\n",
        "              \"W2\":W2,\n",
        "              \"b2\":b2,\n",
        "              \"W3\":W3,\n",
        "              \"b3\":b3}\n",
        "  return parameters"
      ],
      "execution_count": 60,
      "outputs": []
    },
    {
      "cell_type": "code",
      "metadata": {
        "colab": {
          "base_uri": "https://localhost:8080/"
        },
        "id": "oQrxMqdW9xPk",
        "outputId": "5f63eb71-deab-4afc-a390-1ebd4d64ba5f"
      },
      "source": [
        "tf.reset_default_graph()\n",
        "with tf.Session() as sess:\n",
        "    parameters = initialize_parameters()\n",
        "    print(\"W1 = \" + str(parameters[\"W1\"]))\n",
        "    print(\"b1 = \" + str(parameters[\"b1\"]))\n",
        "    print(\"W2 = \" + str(parameters[\"W2\"]))\n",
        "    print(\"b2 = \" + str(parameters[\"b2\"]))"
      ],
      "execution_count": 61,
      "outputs": [
        {
          "output_type": "stream",
          "text": [
            "W1 = <tf.Variable 'W1:0' shape=(25, 12288) dtype=float32_ref>\n",
            "b1 = <tf.Variable 'b1:0' shape=(25, 1) dtype=float32_ref>\n",
            "W2 = <tf.Variable 'W2:0' shape=(12, 25) dtype=float32_ref>\n",
            "b2 = <tf.Variable 'b2:0' shape=(12, 1) dtype=float32_ref>\n"
          ],
          "name": "stdout"
        }
      ]
    },
    {
      "cell_type": "code",
      "metadata": {
        "id": "_Xhv-HCb91hP"
      },
      "source": [
        "def forward_propagation(X, parameters):\n",
        "  W1=parameters[\"W1\"]\n",
        "  b1=parameters[\"b1\"]\n",
        "  W2=parameters[\"W2\"]\n",
        "  b2=parameters[\"b2\"]\n",
        "  W3=parameters[\"W3\"]\n",
        "  b3=parameters[\"b3\"]\n",
        "  Z1=tf.add(tf.matmul(W1,X),b1)\n",
        "  A1=tf.nn.relu(Z1)\n",
        "  Z2=tf.add(tf.matmul(W2,A1),b2)\n",
        "  A2=tf.nn.relu(Z2)\n",
        "  Z3=tf.add(tf.matmul(W3,A2),b3)\n",
        "  return Z3\n"
      ],
      "execution_count": 65,
      "outputs": []
    },
    {
      "cell_type": "code",
      "metadata": {
        "id": "lssOWLXwhoso",
        "outputId": "ae237981-420b-4ccf-9850-2920b6edc29f",
        "colab": {
          "base_uri": "https://localhost:8080/"
        }
      },
      "source": [
        "tf.reset_default_graph()\n",
        "\n",
        "with tf.Session() as sess:\n",
        "    X, Y = create_placeholders(12288, 6)\n",
        "    parameters = initialize_parameters()\n",
        "    Z3 = forward_propagation(X, parameters)\n",
        "    print(\"Z3 = \" + str(Z3))"
      ],
      "execution_count": 66,
      "outputs": [
        {
          "output_type": "stream",
          "text": [
            "Z3 = Tensor(\"Add_2:0\", shape=(6, ?), dtype=float32)\n"
          ],
          "name": "stdout"
        }
      ]
    },
    {
      "cell_type": "code",
      "metadata": {
        "id": "T7E4lkEEiyQo"
      },
      "source": [
        "def compute_cost(Z3, Y):\n",
        "  logits=tf.transpose(Z3)\n",
        "  labels=tf.transpose(Y)\n",
        "  cost=tf.reduce_mean(tf.nn.softmax_cross_entropy_with_logits(logits=logits,labels=labels))\n",
        "  return cost\n"
      ],
      "execution_count": 68,
      "outputs": []
    },
    {
      "cell_type": "code",
      "metadata": {
        "id": "g_a3vc5zi38O",
        "outputId": "234ed1a1-6ce3-44de-ffe9-d8526d78a7bb",
        "colab": {
          "base_uri": "https://localhost:8080/"
        }
      },
      "source": [
        "tf.reset_default_graph()\n",
        "\n",
        "with tf.Session() as sess:\n",
        "    X, Y = create_placeholders(12288, 6)\n",
        "    parameters = initialize_parameters()\n",
        "    Z3 = forward_propagation(X, parameters)\n",
        "    cost = compute_cost(Z3, Y)\n",
        "    print(\"cost = \" + str(cost))"
      ],
      "execution_count": 69,
      "outputs": [
        {
          "output_type": "stream",
          "text": [
            "WARNING:tensorflow:From /usr/local/lib/python3.7/dist-packages/tensorflow/python/util/dispatch.py:201: softmax_cross_entropy_with_logits (from tensorflow.python.ops.nn_ops) is deprecated and will be removed in a future version.\n",
            "Instructions for updating:\n",
            "\n",
            "Future major versions of TensorFlow will allow gradients to flow\n",
            "into the labels input on backprop by default.\n",
            "\n",
            "See `tf.nn.softmax_cross_entropy_with_logits_v2`.\n",
            "\n",
            "cost = Tensor(\"Mean:0\", shape=(), dtype=float32)\n"
          ],
          "name": "stdout"
        }
      ]
    },
    {
      "cell_type": "code",
      "metadata": {
        "id": "AiLjs0Fojwl1"
      },
      "source": [
        "def model(X_train, Y_train, X_test, Y_test, learning_rate = 0.0001,\n",
        "          num_epochs = 1500, minibatch_size = 32, print_cost = True):\n",
        "  ops.reset_default_graph()  \n",
        "  tf.set_random_seed(1)  \n",
        "  seed=3\n",
        "  (n_x,m)=x_train.shape\n",
        "  n_y=y_train.shape[0]\n",
        "  costs=[]\n",
        "  X,Y=create_placeholders(n_x,n_y)\n",
        "  parameters=initialize_parameters()\n",
        "  Z3=forward_propagation(X,parameters)\n",
        "  cost=compute_cost(Z3,Y)\n",
        "  optimizer=tf.train.GradientDescentOptimizer(learning_rate=learning_rate).minimize(cost)\n",
        "  init=tf.global_variables_initializer()\n",
        "  with tf.Session() as sess:\n",
        "    sess.run(init)\n",
        "    for epoch in range(num_epochs):\n",
        "      epoch_cost=0\n",
        "      num_minibatches=int(m/minibatch_size)\n",
        "      seed+=1\n",
        "      minibatches = random_mini_batches(X_train, Y_train, minibatch_size, seed)\n",
        "      for minibatch in minibatches:\n",
        "        (minibatch_X, minibatch_Y) = minibatch\n",
        "        _,minibatch_cost=sess.run([optimizer,cost],feed_dict={X:minibatch_X,Y:minibatch_Y})\n",
        "        epoch_cost=minibatch_cost/num_minibatches\n",
        "      if print_cost == True and epoch % 100 == 0:\n",
        "          print (\"Cost after epoch %i: %f\" % (epoch, epoch_cost))\n",
        "      if print_cost == True and epoch % 5 == 0:\n",
        "          costs.append(epoch_cost)\n",
        "    plt.plot(np.squeeze(costs))\n",
        "    plt.ylabel('cost')\n",
        "    plt.xlabel('iterations (per tens)')\n",
        "    plt.title(\"Learning rate =\" + str(learning_rate))\n",
        "    plt.show()\n",
        "\n",
        "        # lets save the parameters in a variable\n",
        "    parameters = sess.run(parameters)\n",
        "    print (\"Parameters have been trained!\")\n",
        "\n",
        "        # Calculate the correct predictions\n",
        "    correct_prediction = tf.equal(tf.argmax(Z3), tf.argmax(Y))\n",
        "\n",
        "        # Calculate accuracy on the test set\n",
        "    accuracy = tf.reduce_mean(tf.cast(correct_prediction, \"float\"))\n",
        "\n",
        "    print (\"Train Accuracy:\", accuracy.eval({X: X_train, Y: Y_train}))\n",
        "    print (\"Test Accuracy:\", accuracy.eval({X: X_test, Y: Y_test}))\n",
        "        \n",
        "    \n",
        "    return parameters\n",
        "    \n",
        "\n",
        "\n",
        "\n",
        "\n",
        "\n",
        "\n"
      ],
      "execution_count": 73,
      "outputs": []
    },
    {
      "cell_type": "code",
      "metadata": {
        "id": "tnO45RenmCVF",
        "outputId": "3f92c29d-45ac-4cbb-e9c7-b7b651d1c64b",
        "colab": {
          "base_uri": "https://localhost:8080/",
          "height": 598
        }
      },
      "source": [
        "parameters = model(x_train, y_train, x_test, y_test)"
      ],
      "execution_count": 74,
      "outputs": [
        {
          "output_type": "stream",
          "text": [
            "Cost after epoch 0: 0.056983\n",
            "Cost after epoch 100: 0.050601\n",
            "Cost after epoch 200: 0.047543\n",
            "Cost after epoch 300: 0.042027\n",
            "Cost after epoch 400: 0.040347\n",
            "Cost after epoch 500: 0.041010\n",
            "Cost after epoch 600: 0.040102\n",
            "Cost after epoch 700: 0.038407\n",
            "Cost after epoch 800: 0.028663\n",
            "Cost after epoch 900: 0.031331\n",
            "Cost after epoch 1000: 0.028457\n",
            "Cost after epoch 1100: 0.020077\n",
            "Cost after epoch 1200: 0.023935\n",
            "Cost after epoch 1300: 0.023573\n",
            "Cost after epoch 1400: 0.029548\n"
          ],
          "name": "stdout"
        },
        {
          "output_type": "display_data",
          "data": {
            "image/png": "[encoded data removed]",
            "text/plain": [
              "<Figure size 432x288 with 1 Axes>"
            ]
          },
          "metadata": {
            "tags": [],
            "needs_background": "light"
          }
        },
        {
          "output_type": "stream",
          "text": [
            "Parameters have been trained!\n",
            "Train Accuracy: 0.8148148\n",
            "Test Accuracy: 0.75\n"
          ],
          "name": "stdout"
        }
      ]
    },
    {
      "cell_type": "code",
      "metadata": {
        "id": "w3X6P-O4oosm",
        "outputId": "03a37173-bdf7-4492-c955-3c13d27ac312",
        "colab": {
          "base_uri": "https://localhost:8080/",
          "height": 346
        }
      },
      "source": [
        "\n",
        "import scipy\n",
        "from PIL import Image\n",
        "from scipy import ndimage\n",
        "import cv2\n",
        "import scipy.misc\n",
        "from skimage.transform import resize\n",
        "\n",
        "## START CODE HERE ## (PUT YOUR IMAGE NAME) \n",
        "my_image = \"thumbs_up.jpg\"\n",
        "## END CODE HERE ##\n",
        "\n",
        "# We preprocess your image to fit your algorithm.\n",
        "fname = \"/content/thumbs_up.jpg\"\n",
        "image = np.array(cv2.imread(fname,1))\n",
        "my_image=resize(image, output_shape=(64,64)).reshape((1, 64*64*3)).T\n",
        "my_image_prediction = predict(my_image, parameters)\n",
        "\n",
        "plt.imshow(image)\n",
        "print(\"Your algorithm predicts: y = \" + str(np.squeeze(my_image_prediction)))"
      ],
      "execution_count": 89,
      "outputs": [
        {
          "output_type": "error",
          "ename": "AttributeError",
          "evalue": "ignored",
          "traceback": [
            "\u001b[0;31m---------------------------------------------------------------------------\u001b[0m",
            "\u001b[0;31mAttributeError\u001b[0m                            Traceback (most recent call last)",
            "\u001b[0;32m<ipython-input-89-1cd6acf980ae>\u001b[0m in \u001b[0;36m<module>\u001b[0;34m()\u001b[0m\n\u001b[1;32m     15\u001b[0m \u001b[0mimage\u001b[0m \u001b[0;34m=\u001b[0m \u001b[0mnp\u001b[0m\u001b[0;34m.\u001b[0m\u001b[0marray\u001b[0m\u001b[0;34m(\u001b[0m\u001b[0mcv2\u001b[0m\u001b[0;34m.\u001b[0m\u001b[0mimread\u001b[0m\u001b[0;34m(\u001b[0m\u001b[0mfname\u001b[0m\u001b[0;34m,\u001b[0m\u001b[0;36m1\u001b[0m\u001b[0;34m)\u001b[0m\u001b[0;34m)\u001b[0m\u001b[0;34m\u001b[0m\u001b[0;34m\u001b[0m\u001b[0m\n\u001b[1;32m     16\u001b[0m \u001b[0mmy_image\u001b[0m\u001b[0;34m=\u001b[0m\u001b[0mresize\u001b[0m\u001b[0;34m(\u001b[0m\u001b[0mimage\u001b[0m\u001b[0;34m,\u001b[0m \u001b[0moutput_shape\u001b[0m\u001b[0;34m=\u001b[0m\u001b[0;34m(\u001b[0m\u001b[0;36m64\u001b[0m\u001b[0;34m,\u001b[0m\u001b[0;36m64\u001b[0m\u001b[0;34m)\u001b[0m\u001b[0;34m)\u001b[0m\u001b[0;34m.\u001b[0m\u001b[0mreshape\u001b[0m\u001b[0;34m(\u001b[0m\u001b[0;34m(\u001b[0m\u001b[0;36m1\u001b[0m\u001b[0;34m,\u001b[0m \u001b[0;36m64\u001b[0m\u001b[0;34m*\u001b[0m\u001b[0;36m64\u001b[0m\u001b[0;34m*\u001b[0m\u001b[0;36m3\u001b[0m\u001b[0;34m)\u001b[0m\u001b[0;34m)\u001b[0m\u001b[0;34m.\u001b[0m\u001b[0mT\u001b[0m\u001b[0;34m\u001b[0m\u001b[0;34m\u001b[0m\u001b[0m\n\u001b[0;32m---> 17\u001b[0;31m \u001b[0mmy_image_prediction\u001b[0m \u001b[0;34m=\u001b[0m \u001b[0mpredict\u001b[0m\u001b[0;34m(\u001b[0m\u001b[0mmy_image\u001b[0m\u001b[0;34m,\u001b[0m \u001b[0mparameters\u001b[0m\u001b[0;34m)\u001b[0m\u001b[0;34m\u001b[0m\u001b[0;34m\u001b[0m\u001b[0m\n\u001b[0m\u001b[1;32m     18\u001b[0m \u001b[0;34m\u001b[0m\u001b[0m\n\u001b[1;32m     19\u001b[0m \u001b[0mplt\u001b[0m\u001b[0;34m.\u001b[0m\u001b[0mimshow\u001b[0m\u001b[0;34m(\u001b[0m\u001b[0mimage\u001b[0m\u001b[0;34m)\u001b[0m\u001b[0;34m\u001b[0m\u001b[0;34m\u001b[0m\u001b[0m\n",
            "\u001b[0;32m/content/tf_utils.py\u001b[0m in \u001b[0;36mpredict\u001b[0;34m(X, parameters)\u001b[0m\n\u001b[1;32m     82\u001b[0m               \u001b[0;34m\"b2\"\u001b[0m\u001b[0;34m:\u001b[0m \u001b[0mb2\u001b[0m\u001b[0;34m,\u001b[0m\u001b[0;34m\u001b[0m\u001b[0;34m\u001b[0m\u001b[0m\n\u001b[1;32m     83\u001b[0m               \u001b[0;34m\"W3\"\u001b[0m\u001b[0;34m:\u001b[0m \u001b[0mW3\u001b[0m\u001b[0;34m,\u001b[0m\u001b[0;34m\u001b[0m\u001b[0;34m\u001b[0m\u001b[0m\n\u001b[0;32m---> 84\u001b[0;31m               \"b3\": b3}\n\u001b[0m\u001b[1;32m     85\u001b[0m \u001b[0;34m\u001b[0m\u001b[0m\n\u001b[1;32m     86\u001b[0m     \u001b[0mx\u001b[0m \u001b[0;34m=\u001b[0m \u001b[0mtf\u001b[0m\u001b[0;34m.\u001b[0m\u001b[0mplaceholder\u001b[0m\u001b[0;34m(\u001b[0m\u001b[0mtf\u001b[0m\u001b[0;34m.\u001b[0m\u001b[0mfloat32\u001b[0m\u001b[0;34m,\u001b[0m\u001b[0mshape\u001b[0m\u001b[0;34m=\u001b[0m \u001b[0;34m[\u001b[0m\u001b[0;36m12288\u001b[0m\u001b[0;34m,\u001b[0m \u001b[0;36m1\u001b[0m\u001b[0;34m]\u001b[0m\u001b[0;34m,\u001b[0m\u001b[0mname\u001b[0m\u001b[0;34m=\u001b[0m\u001b[0;34m\"x\"\u001b[0m\u001b[0;34m)\u001b[0m\u001b[0;34m\u001b[0m\u001b[0;34m\u001b[0m\u001b[0m\n",
            "\u001b[0;31mAttributeError\u001b[0m: module 'tensorflow' has no attribute 'placeholder'"
          ]
        }
      ]
    },
    {
      "cell_type": "code",
      "metadata": {
        "id": "w_yE2oOwqJY0"
      },
      "source": [
        ""
      ],
      "execution_count": 82,
      "outputs": []
    }
  ]
}