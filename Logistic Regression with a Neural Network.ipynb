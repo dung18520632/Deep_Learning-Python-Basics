{
  "nbformat": 4,
  "nbformat_minor": 0,
  "metadata": {
    "colab": {
      "name": "Untitled45.ipynb",
      "provenance": [],
      "collapsed_sections": [],
      "mount_file_id": "1VdNmHq7oPQOC8vSGPEAF8sGK3plyNhKM",
      "authorship_tag": "ABX9TyM0kCVrFRzU6JOjc648GCbU",
      "include_colab_link": true
    },
    "kernelspec": {
      "name": "python3",
      "display_name": "Python 3"
    },
    "language_info": {
      "name": "python"
    }
  },
  "cells": [
    {
      "cell_type": "markdown",
      "metadata": {
        "id": "view-in-github",
        "colab_type": "text"
      },
      "source": [
        "<a href=\"https://colab.research.google.com/github/dung18520632/Deep_Learning-Python-Basics/blob/main/Logistic%20Regression%20with%20a%20Neural%20Network.ipynb\" target=\"_parent\"><img src=\"https://colab.research.google.com/assets/colab-badge.svg\" alt=\"Open In Colab\"/></a>"
      ]
    },
    {
      "cell_type": "code",
      "metadata": {
        "id": "_L6dj-wexV4v"
      },
      "source": [
        "import numpy as np\n",
        "import matplotlib.pyplot as plt\n",
        "import h5py\n",
        "import scipy\n",
        "from PIL import Image\n",
        "from scipy import ndimage"
      ],
      "execution_count": 1,
      "outputs": []
    },
    {
      "cell_type": "code",
      "metadata": {
        "id": "ggy1HQHOoVTb"
      },
      "source": [
        "import numpy as np\n",
        "import h5py\n",
        "import os      \n",
        "\n",
        "def load_dataset():\n",
        "    train_dataset = h5py.File('/content/train_catvnoncat.h5', \"r\")\n",
        "    train_set_x_orig = np.array(train_dataset[\"train_set_x\"][:]) # your train set features\n",
        "    train_set_y_orig = np.array(train_dataset[\"train_set_y\"][:]) # your train set labels\n",
        "\n",
        "    test_dataset = h5py.File('/content/test_catvnoncat.h5', \"r\")\n",
        "    test_set_x_orig = np.array(test_dataset[\"test_set_x\"][:]) # your test set features\n",
        "    test_set_y_orig = np.array(test_dataset[\"test_set_y\"][:]) # your test set labels\n",
        "\n",
        "    classes = np.array(test_dataset[\"list_classes\"][:]) # the list of classes\n",
        "    \n",
        "    train_set_y_orig = train_set_y_orig.reshape((1, train_set_y_orig.shape[0]))\n",
        "    test_set_y_orig = test_set_y_orig.reshape((1, test_set_y_orig.shape[0]))\n",
        "    \n",
        "    return train_set_x_orig, train_set_y_orig, test_set_x_orig, test_set_y_orig, classes"
      ],
      "execution_count": 2,
      "outputs": []
    },
    {
      "cell_type": "code",
      "metadata": {
        "id": "FgtJyCKTcrAK"
      },
      "source": [
        "train_X,test_X,train_Y,test_Y,classes=load_dataset()"
      ],
      "execution_count": 69,
      "outputs": []
    },
    {
      "cell_type": "code",
      "metadata": {
        "id": "mltQm0ZTP7lg"
      },
      "source": [
        "# Mỗi cột sẽ biểu diễn đặc trưng của 1 ảnh\n",
        "train_X_flatten=train_X.reshape(train_X.shape[0],-1).T\n",
        "train_Y_flatten=train_Y.reshape(train_Y.shape[0],-1).T"
      ],
      "execution_count": 70,
      "outputs": []
    },
    {
      "cell_type": "code",
      "metadata": {
        "id": "jQjFn7zrQB30"
      },
      "source": [
        "# Vì đây là ảnh màu nên phải scale image:\n",
        "train_X_flatten=train_X_flatten/255\n",
        "train_Y_flatten=train_Y_flatten/255"
      ],
      "execution_count": 71,
      "outputs": []
    },
    {
      "cell_type": "code",
      "metadata": {
        "id": "fgSCNyPlQb5-"
      },
      "source": [
        "#Xây dựng các hàm bổ trợ để tính cost function\n",
        "def sigmoid(x):\n",
        "  return 1/(1+np.exp(-x))\n",
        "def initialize(dim):\n",
        "  w=np.zeros((dim,1))\n",
        "  b=0\n",
        "  assert(w.shape == (dim, 1))\n",
        "  assert(isinstance(b, float) or isinstance(b, int))\n",
        "  return w, b \n",
        "def propagate(w,b,X,Y):\n",
        "  m=X.shape[1]\n",
        "  A=sigmoid(np.dot(w.T,X)+b)\n",
        "  cost=(-1/m)*np.sum((Y*np.log(A))+(1-Y)*np.log(1-A))\n",
        "  dw=(1/m)*(np.dot(X,np.subtract(A,Y).T))\n",
        "  db=(1/m)*(np.sum(A-Y))\n",
        "  ### END CODE HERE ###\n",
        "  assert(db.dtype == float)\n",
        "    #assert(dw.shape == w.shape)\n",
        "    \n",
        "  cost = np.squeeze(cost)\n",
        "  assert(cost.shape == ())\n",
        "\n",
        "  grads = {\"dw\": dw,\n",
        "            \n",
        "            \"db\": db}\n",
        "    \n",
        "  return grads, cost\n",
        "def optimize(w, b, X, Y, num_iterations, learning_rate, print_cost = False):\n",
        "  costs=[]\n",
        "  for i in range(num_iterations):\n",
        "    grad,cost=propagate(w,b,X,Y)\n",
        "    dw=grad[\"dw\"]\n",
        "    db=grad[\"db\"]\n",
        "    w=w-learning_rate*dw\n",
        "    b=b-learning_rate*db\n",
        "    if i % 100 == 0:\n",
        "      costs.append(cost)\n",
        "    if print_cost and i % 100 == 0:\n",
        "      print (\"Cost after iteration %i: %f\" %(i, cost))\n",
        "    \n",
        "  params = {\"w\": w,\n",
        "              \"b\": b}\n",
        "    \n",
        "  grads = {\"dw\": dw,\n",
        "             \"db\": db}\n",
        "    \n",
        "  return params, grads, costs\n",
        "def predict(w, b, X):\n",
        "  m=X.shape[1]\n",
        "  Y_predict=np.zeros((1,m))\n",
        "  w=w.reshape(X.shape[0],1)\n",
        "  A=sigmoid(np.dot(w.T,X)+b)\n",
        "  for i in range (A.shape[1]):\n",
        "    if A[0][i]<=0.5:\n",
        "      Y_predict[0][i]=0\n",
        "    else:\n",
        "      Y_predict[0][i]=1\n",
        "  assert(Y_predict.shape == (1, m))\n",
        "    \n",
        "  return Y_predict\n",
        "def model(X_train, test_X,Y_train, test_Y, num_iterations = 2000, learning_rate = 0.5, print_cost = False):\n",
        "  w,b=initialize(X_train.shape[0])\n",
        "  params, grads, costs=optimize(w, b, X_train, test_X, num_iterations, learning_rate, print_cost)\n",
        "  w=params[\"w\"]\n",
        "  b=params[\"b\"]\n",
        "  Y_prediction_train=predict(w,b,X_train)\n",
        "  Y_prediction_test=predict(w,b,Y_train)\n",
        "  print(\"train accuracy: {} %\".format(100 - np.mean(np.abs(Y_prediction_train - test_X)) * 100))\n",
        "  print(\"test accuracy: {} %\".format(100 - np.mean(np.abs(Y_prediction_test - test_Y)) * 100))\n",
        "\n",
        "    \n",
        "  d = {\"costs\": costs,\n",
        "         \"Y_prediction_test\": Y_prediction_test, \n",
        "         \"Y_prediction_train\" : Y_prediction_train, \n",
        "         \"w\" : w, \n",
        "         \"b\" : b,\n",
        "         \"learning_rate\" : learning_rate,\n",
        "         \"num_iterations\": num_iterations}\n",
        "    \n",
        "  return d\n"
      ],
      "execution_count": 88,
      "outputs": []
    },
    {
      "cell_type": "code",
      "metadata": {
        "colab": {
          "base_uri": "https://localhost:8080/"
        },
        "id": "VTsyn7Y_WxUk",
        "outputId": "f29086ff-fa6b-4135-b880-6d165783e555"
      },
      "source": [
        "d = model(train_X_flatten, test_X, train_Y_flatten, test_Y, num_iterations = 2000, learning_rate = 0.005, print_cost = True)\n"
      ],
      "execution_count": 89,
      "outputs": [
        {
          "output_type": "stream",
          "text": [
            "Cost after iteration 0: 0.693147\n",
            "Cost after iteration 100: 0.584508\n",
            "Cost after iteration 200: 0.466949\n",
            "Cost after iteration 300: 0.376007\n",
            "Cost after iteration 400: 0.331463\n",
            "Cost after iteration 500: 0.303273\n",
            "Cost after iteration 600: 0.279880\n",
            "Cost after iteration 700: 0.260042\n",
            "Cost after iteration 800: 0.242941\n",
            "Cost after iteration 900: 0.228004\n",
            "Cost after iteration 1000: 0.214820\n",
            "Cost after iteration 1100: 0.203078\n",
            "Cost after iteration 1200: 0.192544\n",
            "Cost after iteration 1300: 0.183033\n",
            "Cost after iteration 1400: 0.174399\n",
            "Cost after iteration 1500: 0.166521\n",
            "Cost after iteration 1600: 0.159305\n",
            "Cost after iteration 1700: 0.152667\n",
            "Cost after iteration 1800: 0.146542\n",
            "Cost after iteration 1900: 0.140872\n",
            "train accuracy: 99.04306220095694 %\n",
            "test accuracy: 70.0 %\n"
          ],
          "name": "stdout"
        }
      ]
    },
    {
      "cell_type": "code",
      "metadata": {
        "id": "4K2l26Z-bHLQ"
      },
      "source": [
        ""
      ],
      "execution_count": null,
      "outputs": []
    }
  ]
}