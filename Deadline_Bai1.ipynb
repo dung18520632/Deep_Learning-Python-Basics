{
  "nbformat": 4,
  "nbformat_minor": 0,
  "metadata": {
    "colab": {
      "name": "Untitled58.ipynb",
      "provenance": [],
      "collapsed_sections": [],
      "authorship_tag": "ABX9TyNouvvC85BlOTAWamC+HNyt",
      "include_colab_link": true
    },
    "kernelspec": {
      "name": "python3",
      "display_name": "Python 3"
    },
    "language_info": {
      "name": "python"
    }
  },
  "cells": [
    {
      "cell_type": "markdown",
      "metadata": {
        "id": "view-in-github",
        "colab_type": "text"
      },
      "source": [
        "<a href=\"https://colab.research.google.com/github/dung18520632/Deep_Learning-Python-Basics/blob/main/Deadline_Bai1.ipynb\" target=\"_parent\"><img src=\"https://colab.research.google.com/assets/colab-badge.svg\" alt=\"Open In Colab\"/></a>"
      ]
    },
    {
      "cell_type": "code",
      "metadata": {
        "id": "1cIVT6CO6IrR"
      },
      "source": [
        "import tensorflow as tf"
      ],
      "execution_count": 3,
      "outputs": []
    },
    {
      "cell_type": "code",
      "metadata": {
        "id": "vcEtum026Pg-"
      },
      "source": [
        "model=tf.keras.Sequential([\n",
        "  tf.keras.layers.Conv2D(3,(3,3),activation='relu'),\n",
        "  tf.keras.layers.MaxPool2D(pool_size=(2,2)),\n",
        "  tf.keras.layers.Flatten(),\n",
        "  tf.keras.layers.Dense(120,activation=\"relu\"),\n",
        "  tf.keras.layers.Dense(10,activation=\"softmax\")          \n",
        "])\n",
        "model.compile(optimizer=\"sgd\", loss='categorical_crossentropy', metrics=['accuracy'])"
      ],
      "execution_count": 30,
      "outputs": []
    },
    {
      "cell_type": "code",
      "metadata": {
        "id": "lAXZWC_v86z7"
      },
      "source": [
        "# Prepare data\n",
        "from keras.datasets import mnist\n",
        "import numpy as np\n",
        "\n",
        "(x_train, y_train), (x_test, y_test) = mnist.load_data()\n",
        "\n",
        "# Normalize data\n",
        "x_train_norm = x_train / 255.0 # Attention here: use 255.0 instead of 255\n",
        "x_test_norm = x_test / 255.0 \n",
        "\n",
        "# Convert to one-hot vector\n",
        "def onehot(y):\n",
        "  oh = np.zeros((y.shape[0], 10))\n",
        "  oh[np.arange(y.shape[0]), y] = 1\n",
        "  return oh\n",
        "\n",
        "y_train_oh = onehot(y_train)\n",
        "y_test_oh = onehot(y_test)"
      ],
      "execution_count": 31,
      "outputs": []
    },
    {
      "cell_type": "code",
      "metadata": {
        "colab": {
          "base_uri": "https://localhost:8080/",
          "height": 298
        },
        "id": "rkksk8x59JtG",
        "outputId": "d665bf5a-03aa-43a7-d6d8-dd60afaff3d9"
      },
      "source": [
        "import matplotlib.pyplot as plt\n",
        "\n",
        "index = 1000\n",
        "print(y_train_oh[index])\n",
        "plt.imshow(x_train_norm[index])\n",
        "print('Size of input: ', x_train_norm.shape)"
      ],
      "execution_count": 32,
      "outputs": [
        {
          "output_type": "stream",
          "text": [
            "[1. 0. 0. 0. 0. 0. 0. 0. 0. 0.]\n",
            "Size of input:  (60000, 28, 28)\n"
          ],
          "name": "stdout"
        },
        {
          "output_type": "display_data",
          "data": {
            "image/png": "[encoded data removed]",
            "text/plain": [
              "<Figure size 432x288 with 1 Axes>"
            ]
          },
          "metadata": {
            "tags": [],
            "needs_background": "light"
          }
        }
      ]
    },
    {
      "cell_type": "code",
      "metadata": {
        "colab": {
          "base_uri": "https://localhost:8080/"
        },
        "id": "jz4dkjuj9SKV",
        "outputId": "53e52a6a-8b9e-457d-c983-e8da3b76243a"
      },
      "source": [
        "x_train_norm = x_train_norm.reshape(-1, 28, 28, 1)\n",
        "model.fit(x_train_norm,y_train_oh,batch_size=128,epochs=10,validation_split=0.2)"
      ],
      "execution_count": 33,
      "outputs": [
        {
          "output_type": "stream",
          "text": [
            "Epoch 1/10\n",
            "375/375 [==============================] - 12s 30ms/step - loss: 1.8537 - accuracy: 0.3891 - val_loss: 0.4487 - val_accuracy: 0.8742\n",
            "Epoch 2/10\n",
            "375/375 [==============================] - 11s 28ms/step - loss: 0.4395 - accuracy: 0.8770 - val_loss: 0.3232 - val_accuracy: 0.9072\n",
            "Epoch 3/10\n",
            "375/375 [==============================] - 11s 30ms/step - loss: 0.3463 - accuracy: 0.8980 - val_loss: 0.2861 - val_accuracy: 0.9148\n",
            "Epoch 4/10\n",
            "375/375 [==============================] - 11s 30ms/step - loss: 0.3018 - accuracy: 0.9097 - val_loss: 0.2689 - val_accuracy: 0.9205\n",
            "Epoch 5/10\n",
            "375/375 [==============================] - 11s 30ms/step - loss: 0.2844 - accuracy: 0.9160 - val_loss: 0.2417 - val_accuracy: 0.9300\n",
            "Epoch 6/10\n",
            "375/375 [==============================] - 11s 30ms/step - loss: 0.2514 - accuracy: 0.9244 - val_loss: 0.2242 - val_accuracy: 0.9342\n",
            "Epoch 7/10\n",
            "375/375 [==============================] - 11s 30ms/step - loss: 0.2406 - accuracy: 0.9279 - val_loss: 0.2119 - val_accuracy: 0.9395\n",
            "Epoch 8/10\n",
            "375/375 [==============================] - 11s 30ms/step - loss: 0.2155 - accuracy: 0.9366 - val_loss: 0.1979 - val_accuracy: 0.9431\n",
            "Epoch 9/10\n",
            "375/375 [==============================] - 11s 30ms/step - loss: 0.2051 - accuracy: 0.9404 - val_loss: 0.1878 - val_accuracy: 0.9446\n",
            "Epoch 10/10\n",
            "375/375 [==============================] - 11s 30ms/step - loss: 0.1971 - accuracy: 0.9405 - val_loss: 0.1854 - val_accuracy: 0.9448\n"
          ],
          "name": "stdout"
        },
        {
          "output_type": "execute_result",
          "data": {
            "text/plain": [
              "<tensorflow.python.keras.callbacks.History at 0x7f9d0def1e90>"
            ]
          },
          "metadata": {
            "tags": []
          },
          "execution_count": 33
        }
      ]
    },
    {
      "cell_type": "code",
      "metadata": {
        "id": "mEcMUnXW-N_x"
      },
      "source": [
        ""
      ],
      "execution_count": null,
      "outputs": []
    }
  ]
}