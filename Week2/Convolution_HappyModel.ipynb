{
  "nbformat": 4,
  "nbformat_minor": 0,
  "metadata": {
    "colab": {
      "name": "Untitled52.ipynb",
      "provenance": [],
      "authorship_tag": "ABX9TyOFBV73Sk+YmmGJ3SIvb9xA",
      "include_colab_link": true
    },
    "kernelspec": {
      "name": "python3",
      "display_name": "Python 3"
    },
    "language_info": {
      "name": "python"
    }
  },
  "cells": [
    {
      "cell_type": "markdown",
      "metadata": {
        "id": "view-in-github",
        "colab_type": "text"
      },
      "source": [
        "<a href=\"https://colab.research.google.com/github/dung18520632/Deep_Learning-Python-Basics/blob/main/Week2/Convolution_HappyModel.ipynb\" target=\"_parent\"><img src=\"https://colab.research.google.com/assets/colab-badge.svg\" alt=\"Open In Colab\"/></a>"
      ]
    },
    {
      "cell_type": "code",
      "metadata": {
        "id": "ZEJVPK8CnGNw"
      },
      "source": [
        "import numpy as np\n",
        "from keras import layers\n",
        "from keras.layers import Input, Dense, Activation, ZeroPadding2D, BatchNormalization, Flatten, Conv2D\n",
        "from keras.layers import AveragePooling2D, MaxPooling2D, Dropout, GlobalMaxPooling2D, GlobalAveragePooling2D\n",
        "from keras.models import Model\n",
        "from keras.preprocessing import image\n",
        "from keras.utils import layer_utils\n",
        "from keras.utils.data_utils import get_file\n",
        "from keras.applications.imagenet_utils import preprocess_input\n",
        "import pydot\n",
        "from IPython.display import SVG\n",
        "from keras.utils.vis_utils import model_to_dot\n",
        "from keras.utils import plot_model\n",
        "from kt_utils import *\n",
        "\n",
        "import keras.backend as K\n",
        "K.set_image_data_format('channels_last')\n",
        "import matplotlib.pyplot as plt\n",
        "from matplotlib.pyplot import imshow\n",
        "\n",
        "%matplotlib inline"
      ],
      "execution_count": 4,
      "outputs": []
    },
    {
      "cell_type": "code",
      "metadata": {
        "id": "PeVes9UWnqeM"
      },
      "source": [
        "def load_dataset():\n",
        "    train_dataset = h5py.File('/content/train_happy.h5', \"r\")\n",
        "    train_set_x_orig = np.array(train_dataset[\"train_set_x\"][:]) # your train set features\n",
        "    train_set_y_orig = np.array(train_dataset[\"train_set_y\"][:]) # your train set labels\n",
        "\n",
        "    test_dataset = h5py.File('/content/test_happy.h5', \"r\")\n",
        "    test_set_x_orig = np.array(test_dataset[\"test_set_x\"][:]) # your test set features\n",
        "    test_set_y_orig = np.array(test_dataset[\"test_set_y\"][:]) # your test set labels\n",
        "\n",
        "    classes = np.array(test_dataset[\"list_classes\"][:]) # the list of classes\n",
        "    \n",
        "    train_set_y_orig = train_set_y_orig.reshape((1, train_set_y_orig.shape[0]))\n",
        "    test_set_y_orig = test_set_y_orig.reshape((1, test_set_y_orig.shape[0]))\n",
        "    \n",
        "    return train_set_x_orig, train_set_y_orig, test_set_x_orig, test_set_y_orig, classes"
      ],
      "execution_count": 5,
      "outputs": []
    },
    {
      "cell_type": "code",
      "metadata": {
        "id": "K58xkL4In4BS"
      },
      "source": [
        "X_train_orig, Y_train_orig, X_test_orig, Y_test_orig, classes = load_dataset()\n",
        "X_train=X_train_orig/255.\n",
        "X_test=X_test_orig/255.\n",
        "Y_train=Y_train_orig.T\n",
        "Y_test=Y_test_orig.T"
      ],
      "execution_count": 6,
      "outputs": []
    },
    {
      "cell_type": "code",
      "metadata": {
        "colab": {
          "base_uri": "https://localhost:8080/"
        },
        "id": "3HHy-u1Bn4qb",
        "outputId": "7f747994-e99a-498a-8cb4-888b15cf1aa8"
      },
      "source": [
        "print (\"number of training examples = \" + str(X_train.shape[0]))\n",
        "print (\"number of test examples = \" + str(X_test.shape[0]))\n",
        "print (\"X_train shape: \" + str(X_train.shape))\n",
        "print (\"Y_train shape: \" + str(Y_train.shape))\n",
        "print (\"X_test shape: \" + str(X_test.shape))\n",
        "print (\"Y_test shape: \" + str(Y_test.shape))"
      ],
      "execution_count": 7,
      "outputs": [
        {
          "output_type": "stream",
          "text": [
            "number of training examples = 600\n",
            "number of test examples = 150\n",
            "X_train shape: (600, 64, 64, 3)\n",
            "Y_train shape: (600, 1)\n",
            "X_test shape: (150, 64, 64, 3)\n",
            "Y_test shape: (150, 1)\n"
          ],
          "name": "stdout"
        }
      ]
    },
    {
      "cell_type": "code",
      "metadata": {
        "id": "5Cu12i0drEzF"
      },
      "source": [
        "def model(input_shape):\n",
        "  X_input=Input(input_shape)\n",
        "  X=ZeroPadding2D(padding=(3,3))(X_input)\n",
        "  X=Conv2D(32,(7,7),strides=(1,1),name='conv0')(X)\n",
        "  X=BatchNormalization(axis=3,name='bno')(X)\n",
        "  X=Activation('relu')(X)\n",
        "  X=MaxPooling2D((2,2),name=\"max_pool\")(X)\n",
        "  flatten_layer=Flatten()\n",
        "  X=flatten_layer(X)\n",
        "  X=Dense(1,activation=\"sigmoid\",name=\"fc\")(X)\n",
        "  model=Model(inputs=X_input,outputs=X,name='HappyModel')\n",
        "  return model\n",
        "\n",
        "\n",
        "\n"
      ],
      "execution_count": 8,
      "outputs": []
    },
    {
      "cell_type": "code",
      "metadata": {
        "id": "jPcMrgqGtlJo"
      },
      "source": [
        "happyModel = model(X_train.shape[1:])"
      ],
      "execution_count": 9,
      "outputs": []
    },
    {
      "cell_type": "code",
      "metadata": {
        "id": "aZq0Xv0Sts1s"
      },
      "source": [
        "happyModel.compile('adam', 'binary_crossentropy', metrics=['accuracy'])\n"
      ],
      "execution_count": 10,
      "outputs": []
    },
    {
      "cell_type": "code",
      "metadata": {
        "colab": {
          "base_uri": "https://localhost:8080/"
        },
        "id": "HfuwfnKuuede",
        "outputId": "352d233d-76e9-48a7-f461-459c197137fb"
      },
      "source": [
        "happyModel.fit(X_train,Y_train,epochs=40,batch_size=50)"
      ],
      "execution_count": 11,
      "outputs": [
        {
          "output_type": "stream",
          "text": [
            "Epoch 1/40\n",
            "12/12 [==============================] - 4s 303ms/step - loss: 3.4065 - accuracy: 0.5359\n",
            "Epoch 2/40\n",
            "12/12 [==============================] - 4s 298ms/step - loss: 0.7801 - accuracy: 0.7208\n",
            "Epoch 3/40\n",
            "12/12 [==============================] - 4s 301ms/step - loss: 0.3072 - accuracy: 0.8594\n",
            "Epoch 4/40\n",
            "12/12 [==============================] - 4s 295ms/step - loss: 0.2500 - accuracy: 0.8763\n",
            "Epoch 5/40\n",
            "12/12 [==============================] - 4s 298ms/step - loss: 0.1511 - accuracy: 0.9388\n",
            "Epoch 6/40\n",
            "12/12 [==============================] - 4s 297ms/step - loss: 0.1016 - accuracy: 0.9736\n",
            "Epoch 7/40\n",
            "12/12 [==============================] - 4s 296ms/step - loss: 0.1118 - accuracy: 0.9546\n",
            "Epoch 8/40\n",
            "12/12 [==============================] - 4s 295ms/step - loss: 0.1016 - accuracy: 0.9681\n",
            "Epoch 9/40\n",
            "12/12 [==============================] - 4s 296ms/step - loss: 0.0842 - accuracy: 0.9851\n",
            "Epoch 10/40\n",
            "12/12 [==============================] - 4s 296ms/step - loss: 0.0702 - accuracy: 0.9807\n",
            "Epoch 11/40\n",
            "12/12 [==============================] - 4s 298ms/step - loss: 0.0736 - accuracy: 0.9803\n",
            "Epoch 12/40\n",
            "12/12 [==============================] - 4s 301ms/step - loss: 0.0827 - accuracy: 0.9772\n",
            "Epoch 13/40\n",
            "12/12 [==============================] - 4s 298ms/step - loss: 0.0816 - accuracy: 0.9722\n",
            "Epoch 14/40\n",
            "12/12 [==============================] - 4s 297ms/step - loss: 0.0584 - accuracy: 0.9785\n",
            "Epoch 15/40\n",
            "12/12 [==============================] - 4s 297ms/step - loss: 0.0395 - accuracy: 0.9921\n",
            "Epoch 16/40\n",
            "12/12 [==============================] - 4s 298ms/step - loss: 0.0305 - accuracy: 0.9953\n",
            "Epoch 17/40\n",
            "12/12 [==============================] - 4s 301ms/step - loss: 0.0374 - accuracy: 0.9865\n",
            "Epoch 18/40\n",
            "12/12 [==============================] - 4s 298ms/step - loss: 0.0496 - accuracy: 0.9887\n",
            "Epoch 19/40\n",
            "12/12 [==============================] - 4s 296ms/step - loss: 0.0300 - accuracy: 0.9904\n",
            "Epoch 20/40\n",
            "12/12 [==============================] - 4s 294ms/step - loss: 0.0262 - accuracy: 0.9891\n",
            "Epoch 21/40\n",
            "12/12 [==============================] - 4s 298ms/step - loss: 0.0312 - accuracy: 0.9919\n",
            "Epoch 22/40\n",
            "12/12 [==============================] - 4s 297ms/step - loss: 0.0364 - accuracy: 0.9828\n",
            "Epoch 23/40\n",
            "12/12 [==============================] - 4s 296ms/step - loss: 0.0217 - accuracy: 0.9971\n",
            "Epoch 24/40\n",
            "12/12 [==============================] - 4s 297ms/step - loss: 0.0346 - accuracy: 0.9885\n",
            "Epoch 25/40\n",
            "12/12 [==============================] - 4s 298ms/step - loss: 0.0241 - accuracy: 0.9961\n",
            "Epoch 26/40\n",
            "12/12 [==============================] - 4s 295ms/step - loss: 0.0266 - accuracy: 0.9963\n",
            "Epoch 27/40\n",
            "12/12 [==============================] - 4s 299ms/step - loss: 0.0273 - accuracy: 0.9931\n",
            "Epoch 28/40\n",
            "12/12 [==============================] - 4s 298ms/step - loss: 0.0256 - accuracy: 0.9954\n",
            "Epoch 29/40\n",
            "12/12 [==============================] - 4s 298ms/step - loss: 0.0229 - accuracy: 0.9913\n",
            "Epoch 30/40\n",
            "12/12 [==============================] - 4s 299ms/step - loss: 0.0186 - accuracy: 0.9920\n",
            "Epoch 31/40\n",
            "12/12 [==============================] - 4s 298ms/step - loss: 0.0117 - accuracy: 0.9997\n",
            "Epoch 32/40\n",
            "12/12 [==============================] - 4s 297ms/step - loss: 0.0136 - accuracy: 0.9952\n",
            "Epoch 33/40\n",
            "12/12 [==============================] - 4s 298ms/step - loss: 0.0113 - accuracy: 1.0000\n",
            "Epoch 34/40\n",
            "12/12 [==============================] - 4s 298ms/step - loss: 0.0120 - accuracy: 0.9996\n",
            "Epoch 35/40\n",
            "12/12 [==============================] - 4s 298ms/step - loss: 0.0144 - accuracy: 0.9979\n",
            "Epoch 36/40\n",
            "12/12 [==============================] - 4s 296ms/step - loss: 0.0115 - accuracy: 0.9997\n",
            "Epoch 37/40\n",
            "12/12 [==============================] - 4s 297ms/step - loss: 0.0087 - accuracy: 0.9974\n",
            "Epoch 38/40\n",
            "12/12 [==============================] - 4s 295ms/step - loss: 0.0135 - accuracy: 0.9946\n",
            "Epoch 39/40\n",
            "12/12 [==============================] - 4s 299ms/step - loss: 0.0109 - accuracy: 0.9971\n",
            "Epoch 40/40\n",
            "12/12 [==============================] - 4s 297ms/step - loss: 0.0151 - accuracy: 0.9948\n"
          ],
          "name": "stdout"
        },
        {
          "output_type": "execute_result",
          "data": {
            "text/plain": [
              "<tensorflow.python.keras.callbacks.History at 0x7f0ac0de7890>"
            ]
          },
          "metadata": {
            "tags": []
          },
          "execution_count": 11
        }
      ]
    },
    {
      "cell_type": "code",
      "metadata": {
        "colab": {
          "base_uri": "https://localhost:8080/"
        },
        "id": "YQmOsmIgujSB",
        "outputId": "f0eab700-3171-4225-8b7c-2db7f619bce6"
      },
      "source": [
        "pred=happyModel.evaluate(X_test,Y_test,batch_size=32)\n",
        "print(\"\",pred[0])\n",
        "print(pred[1])"
      ],
      "execution_count": 13,
      "outputs": [
        {
          "output_type": "stream",
          "text": [
            "5/5 [==============================] - 0s 52ms/step - loss: 0.1115 - accuracy: 0.9733\n",
            " 0.11152806878089905\n",
            "0.9733333587646484\n"
          ],
          "name": "stdout"
        }
      ]
    },
    {
      "cell_type": "code",
      "metadata": {
        "colab": {
          "base_uri": "https://localhost:8080/"
        },
        "id": "L1fZIBxBv4Uu",
        "outputId": "b64d5eb8-a253-45bf-c1c6-788aae3c3242"
      },
      "source": [
        "img_path=\"/content/6054.png_860.png\"\n",
        "img=image.load_img(img_path,target_size=(64,64))\n",
        "X=image.img_to_array(img)\n",
        "X=np.expand_dims(X,axis=0)\n",
        "x = preprocess_input(X)\n",
        "print(\"\",happyModel.predict(X))\n"
      ],
      "execution_count": 18,
      "outputs": [
        {
          "output_type": "stream",
          "text": [
            " [[1.]]\n"
          ],
          "name": "stdout"
        }
      ]
    },
    {
      "cell_type": "code",
      "metadata": {
        "colab": {
          "base_uri": "https://localhost:8080/",
          "height": 1000
        },
        "id": "ePcjnHcfwQ_O",
        "outputId": "77eed415-ca78-4373-f7bc-5aa5880b7348"
      },
      "source": [
        "plot_model(happyModel, to_file='HappyModel.png')\n",
        "SVG(model_to_dot(happyModel).create(prog='dot', format='svg'))"
      ],
      "execution_count": 19,
      "outputs": [
        {
          "output_type": "execute_result",
          "data": {
            "text/plain": [
              "<IPython.core.display.SVG object>"
            ],
            "image/svg+xml": "<svg height=\"741pt\" viewBox=\"0.00 0.00 219.00 556.00\" width=\"292pt\" xmlns=\"http://www.w3.org/2000/svg\" xmlns:xlink=\"http://www.w3.org/1999/xlink\">\n<g class=\"graph\" id=\"graph0\" transform=\"scale(1.3333 1.3333) rotate(0) translate(4 552)\">\n<title>G</title>\n<polygon fill=\"#ffffff\" points=\"-4,4 -4,-552 215,-552 215,4 -4,4\" stroke=\"transparent\"/>\n<!-- 139685224303696 -->\n<g class=\"node\" id=\"node1\">\n<title>139685224303696</title>\n<polygon fill=\"none\" points=\"39,-511.5 39,-547.5 172,-547.5 172,-511.5 39,-511.5\" stroke=\"#000000\"/>\n<text fill=\"#000000\" font-family=\"Times,serif\" font-size=\"14.00\" text-anchor=\"middle\" x=\"105.5\" y=\"-525.8\">input_1: InputLayer</text>\n</g>\n<!-- 139684221205456 -->\n<g class=\"node\" id=\"node2\">\n<title>139684221205456</title>\n<polygon fill=\"none\" points=\"0,-438.5 0,-474.5 211,-474.5 211,-438.5 0,-438.5\" stroke=\"#000000\"/>\n<text fill=\"#000000\" font-family=\"Times,serif\" font-size=\"14.00\" text-anchor=\"middle\" x=\"105.5\" y=\"-452.8\">zero_padding2d: ZeroPadding2D</text>\n</g>\n<!-- 139685224303696&#45;&gt;139684221205456 -->\n<g class=\"edge\" id=\"edge1\">\n<title>139685224303696-&gt;139684221205456</title>\n<path d=\"M105.5,-511.4551C105.5,-503.3828 105.5,-493.6764 105.5,-484.6817\" fill=\"none\" stroke=\"#000000\"/>\n<polygon fill=\"#000000\" points=\"109.0001,-484.5903 105.5,-474.5904 102.0001,-484.5904 109.0001,-484.5903\" stroke=\"#000000\"/>\n</g>\n<!-- 139684220870288 -->\n<g class=\"node\" id=\"node3\">\n<title>139684220870288</title>\n<polygon fill=\"none\" points=\"50.5,-365.5 50.5,-401.5 160.5,-401.5 160.5,-365.5 50.5,-365.5\" stroke=\"#000000\"/>\n<text fill=\"#000000\" font-family=\"Times,serif\" font-size=\"14.00\" text-anchor=\"middle\" x=\"105.5\" y=\"-379.8\">conv0: Conv2D</text>\n</g>\n<!-- 139684221205456&#45;&gt;139684220870288 -->\n<g class=\"edge\" id=\"edge2\">\n<title>139684221205456-&gt;139684220870288</title>\n<path d=\"M105.5,-438.4551C105.5,-430.3828 105.5,-420.6764 105.5,-411.6817\" fill=\"none\" stroke=\"#000000\"/>\n<polygon fill=\"#000000\" points=\"109.0001,-411.5903 105.5,-401.5904 102.0001,-411.5904 109.0001,-411.5903\" stroke=\"#000000\"/>\n</g>\n<!-- 139684220329936 -->\n<g class=\"node\" id=\"node4\">\n<title>139684220329936</title>\n<polygon fill=\"none\" points=\"25,-292.5 25,-328.5 186,-328.5 186,-292.5 25,-292.5\" stroke=\"#000000\"/>\n<text fill=\"#000000\" font-family=\"Times,serif\" font-size=\"14.00\" text-anchor=\"middle\" x=\"105.5\" y=\"-306.8\">bno: BatchNormalization</text>\n</g>\n<!-- 139684220870288&#45;&gt;139684220329936 -->\n<g class=\"edge\" id=\"edge3\">\n<title>139684220870288-&gt;139684220329936</title>\n<path d=\"M105.5,-365.4551C105.5,-357.3828 105.5,-347.6764 105.5,-338.6817\" fill=\"none\" stroke=\"#000000\"/>\n<polygon fill=\"#000000\" points=\"109.0001,-338.5903 105.5,-328.5904 102.0001,-338.5904 109.0001,-338.5903\" stroke=\"#000000\"/>\n</g>\n<!-- 139684162630288 -->\n<g class=\"node\" id=\"node5\">\n<title>139684162630288</title>\n<polygon fill=\"none\" points=\"36,-219.5 36,-255.5 175,-255.5 175,-219.5 36,-219.5\" stroke=\"#000000\"/>\n<text fill=\"#000000\" font-family=\"Times,serif\" font-size=\"14.00\" text-anchor=\"middle\" x=\"105.5\" y=\"-233.8\">activation: Activation</text>\n</g>\n<!-- 139684220329936&#45;&gt;139684162630288 -->\n<g class=\"edge\" id=\"edge4\">\n<title>139684220329936-&gt;139684162630288</title>\n<path d=\"M105.5,-292.4551C105.5,-284.3828 105.5,-274.6764 105.5,-265.6817\" fill=\"none\" stroke=\"#000000\"/>\n<polygon fill=\"#000000\" points=\"109.0001,-265.5903 105.5,-255.5904 102.0001,-265.5904 109.0001,-265.5903\" stroke=\"#000000\"/>\n</g>\n<!-- 139684162680336 -->\n<g class=\"node\" id=\"node6\">\n<title>139684162680336</title>\n<polygon fill=\"none\" points=\"19,-146.5 19,-182.5 192,-182.5 192,-146.5 19,-146.5\" stroke=\"#000000\"/>\n<text fill=\"#000000\" font-family=\"Times,serif\" font-size=\"14.00\" text-anchor=\"middle\" x=\"105.5\" y=\"-160.8\">max_pool: MaxPooling2D</text>\n</g>\n<!-- 139684162630288&#45;&gt;139684162680336 -->\n<g class=\"edge\" id=\"edge5\">\n<title>139684162630288-&gt;139684162680336</title>\n<path d=\"M105.5,-219.4551C105.5,-211.3828 105.5,-201.6764 105.5,-192.6817\" fill=\"none\" stroke=\"#000000\"/>\n<polygon fill=\"#000000\" points=\"109.0001,-192.5903 105.5,-182.5904 102.0001,-192.5904 109.0001,-192.5903\" stroke=\"#000000\"/>\n</g>\n<!-- 139684220751952 -->\n<g class=\"node\" id=\"node7\">\n<title>139684220751952</title>\n<polygon fill=\"none\" points=\"56.5,-73.5 56.5,-109.5 154.5,-109.5 154.5,-73.5 56.5,-73.5\" stroke=\"#000000\"/>\n<text fill=\"#000000\" font-family=\"Times,serif\" font-size=\"14.00\" text-anchor=\"middle\" x=\"105.5\" y=\"-87.8\">flatten: Flatten</text>\n</g>\n<!-- 139684162680336&#45;&gt;139684220751952 -->\n<g class=\"edge\" id=\"edge6\">\n<title>139684162680336-&gt;139684220751952</title>\n<path d=\"M105.5,-146.4551C105.5,-138.3828 105.5,-128.6764 105.5,-119.6817\" fill=\"none\" stroke=\"#000000\"/>\n<polygon fill=\"#000000\" points=\"109.0001,-119.5903 105.5,-109.5904 102.0001,-119.5904 109.0001,-119.5903\" stroke=\"#000000\"/>\n</g>\n<!-- 139684162703184 -->\n<g class=\"node\" id=\"node8\">\n<title>139684162703184</title>\n<polygon fill=\"none\" points=\"70.5,-.5 70.5,-36.5 140.5,-36.5 140.5,-.5 70.5,-.5\" stroke=\"#000000\"/>\n<text fill=\"#000000\" font-family=\"Times,serif\" font-size=\"14.00\" text-anchor=\"middle\" x=\"105.5\" y=\"-14.8\">fc: Dense</text>\n</g>\n<!-- 139684220751952&#45;&gt;139684162703184 -->\n<g class=\"edge\" id=\"edge7\">\n<title>139684220751952-&gt;139684162703184</title>\n<path d=\"M105.5,-73.4551C105.5,-65.3828 105.5,-55.6764 105.5,-46.6817\" fill=\"none\" stroke=\"#000000\"/>\n<polygon fill=\"#000000\" points=\"109.0001,-46.5903 105.5,-36.5904 102.0001,-46.5904 109.0001,-46.5903\" stroke=\"#000000\"/>\n</g>\n</g>\n</svg>"
          },
          "metadata": {
            "tags": []
          },
          "execution_count": 19
        }
      ]
    },
    {
      "cell_type": "code",
      "metadata": {
        "id": "0uyX5e0AyApw"
      },
      "source": [
        ""
      ],
      "execution_count": null,
      "outputs": []
    }
  ]
}